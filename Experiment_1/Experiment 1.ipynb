{
  "nbformat": 4,
  "nbformat_minor": 0,
  "metadata": {
    "colab": {
      "provenance": [],
      "toc_visible": true
    },
    "kernelspec": {
      "name": "python3",
      "display_name": "Python 3"
    },
    "language_info": {
      "name": "python"
    }
  },
  "cells": [
    {
      "cell_type": "code",
      "execution_count": 1,
      "metadata": {
        "id": "gGaYPrLeWGXf"
      },
      "outputs": [],
      "source": [
        "import numpy as np"
      ]
    },
    {
      "cell_type": "code",
      "source": [
        "def step_function(v):\n",
        "  if v>=0:\n",
        "    return 1\n",
        "  else:\n",
        "    return 0"
      ],
      "metadata": {
        "id": "qO0-OYesYxot"
      },
      "execution_count": 2,
      "outputs": []
    },
    {
      "cell_type": "code",
      "source": [
        "def perceptron(x,w,b):\n",
        "  yin = np.dot(x,w) + b\n",
        "  yhat = step_function(yin)\n",
        "  return yhat"
      ],
      "metadata": {
        "id": "WuFOJXD3Zr0v"
      },
      "execution_count": 3,
      "outputs": []
    },
    {
      "cell_type": "code",
      "source": [
        "def AND_function(x):\n",
        "  w = np.array([1,1])\n",
        "  b = -2\n",
        "  return perceptron(x,w,b)"
      ],
      "metadata": {
        "id": "nIbVS2l9ZTAy"
      },
      "execution_count": 4,
      "outputs": []
    },
    {
      "cell_type": "code",
      "source": [
        "test = ([0,0], [0,1], [1,0], [1,1])\n",
        "\n",
        "print(\"AND({}, {}) = {}\".format(0, 0, AND_function(test[0])))\n",
        "print(\"AND({}, {}) = {}\".format(0, 1, AND_function(test[1])))\n",
        "print(\"AND({}, {}) = {}\".format(1, 0, AND_function(test[2])))\n",
        "print(\"AND({}, {}) = {}\".format(1, 1, AND_function(test[3])))\n"
      ],
      "metadata": {
        "colab": {
          "base_uri": "https://localhost:8080/"
        },
        "id": "m0it1uETZGUX",
        "outputId": "9573aa34-1ec5-415e-dcf7-24df34e76f23"
      },
      "execution_count": 5,
      "outputs": [
        {
          "output_type": "stream",
          "name": "stdout",
          "text": [
            "AND(0, 0) = 0\n",
            "AND(0, 1) = 0\n",
            "AND(1, 0) = 0\n",
            "AND(1, 1) = 1\n"
          ]
        }
      ]
    },
    {
      "cell_type": "code",
      "source": [
        "def OR_function(x):\n",
        "  w = np.array([1,1])\n",
        "  b = -1\n",
        "  return perceptron(x,w,b)"
      ],
      "metadata": {
        "id": "utmzwk7za9Zn"
      },
      "execution_count": 6,
      "outputs": []
    },
    {
      "cell_type": "code",
      "source": [
        "test = ([0,0], [0,1], [1,0], [1,1])\n",
        "\n",
        "print(\"OR({}, {}) = {}\".format(0, 0, OR_function(test[0])))\n",
        "print(\"OR({}, {}) = {}\".format(0, 1, OR_function(test[1])))\n",
        "print(\"OR({}, {}) = {}\".format(1, 0, OR_function(test[2])))\n",
        "print(\"OR({}, {}) = {}\".format(1, 1, OR_function(test[3])))"
      ],
      "metadata": {
        "colab": {
          "base_uri": "https://localhost:8080/"
        },
        "id": "PyfCh9E4c2_b",
        "outputId": "f73c65c7-2676-4ecb-c538-01e1ec05ca0c"
      },
      "execution_count": 7,
      "outputs": [
        {
          "output_type": "stream",
          "name": "stdout",
          "text": [
            "OR(0, 0) = 0\n",
            "OR(0, 1) = 1\n",
            "OR(1, 0) = 1\n",
            "OR(1, 1) = 1\n"
          ]
        }
      ]
    },
    {
      "cell_type": "code",
      "source": [
        "def NOT_function(x):\n",
        "    w = -1\n",
        "    b = 0\n",
        "    return perceptron(x, w, b)"
      ],
      "metadata": {
        "id": "dIzDzGDTdopL"
      },
      "execution_count": 8,
      "outputs": []
    },
    {
      "cell_type": "code",
      "source": [
        "test = [0,1]\n",
        "\n",
        "print(\"NOT({}) = ({})\".format(0,NOT_function(test[0])))\n",
        "print(\"NOT({}) = ({})\".format(1,NOT_function(test[1])))"
      ],
      "metadata": {
        "colab": {
          "base_uri": "https://localhost:8080/"
        },
        "id": "_JsRchneedmz",
        "outputId": "763664c0-b8c5-4f0a-edb2-fae9138ef179"
      },
      "execution_count": 9,
      "outputs": [
        {
          "output_type": "stream",
          "name": "stdout",
          "text": [
            "NOT(0) = (1)\n",
            "NOT(1) = (0)\n"
          ]
        }
      ]
    },
    {
      "cell_type": "code",
      "source": [
        "def NOR_function(x):\n",
        "    output_OR = OR_function(x)\n",
        "    output_NOT = NOT_function(output_OR)\n",
        "    return output_NOT"
      ],
      "metadata": {
        "id": "GTW8SF3oe6Lj"
      },
      "execution_count": 10,
      "outputs": []
    },
    {
      "cell_type": "code",
      "source": [
        "test = ([0,0], [0,1], [1,0], [1,1])\n",
        "\n",
        "print(\"NOR({}, {}) = {}\".format(0, 0, NOR_function(test[0])))\n",
        "print(\"NOR({}, {}) = {}\".format(0, 1, NOR_function(test[1])))\n",
        "print(\"NOR({}, {}) = {}\".format(1, 0, NOR_function(test[2])))\n",
        "print(\"NOR({}, {}) = {}\".format(1, 1, NOR_function(test[3])))"
      ],
      "metadata": {
        "colab": {
          "base_uri": "https://localhost:8080/"
        },
        "id": "o8-3YlYmfE26",
        "outputId": "6c16db91-90f1-4faf-bb31-65f1cb0c99fa"
      },
      "execution_count": 11,
      "outputs": [
        {
          "output_type": "stream",
          "name": "stdout",
          "text": [
            "NOR(0, 0) = 1\n",
            "NOR(0, 1) = 0\n",
            "NOR(1, 0) = 0\n",
            "NOR(1, 1) = 0\n"
          ]
        }
      ]
    },
    {
      "cell_type": "code",
      "source": [
        "def NAND_function(x):\n",
        "    output_AND = AND_function(x)\n",
        "    output_NOT = NOT_function(output_AND)\n",
        "    return output_NOT"
      ],
      "metadata": {
        "id": "PSVX0YI0fUdN"
      },
      "execution_count": 12,
      "outputs": []
    },
    {
      "cell_type": "code",
      "source": [
        "test = ([0,0], [0,1], [1,0], [1,1])\n",
        "\n",
        "print(\"NAND({}, {}) = {}\".format(0, 0, NAND_function(test[0])))\n",
        "print(\"NAND({}, {}) = {}\".format(0, 1, NAND_function(test[1])))\n",
        "print(\"NAND({}, {}) = {}\".format(1, 0, NAND_function(test[2])))\n",
        "print(\"NAND({}, {}) = {}\".format(1, 1, NAND_function(test[3])))"
      ],
      "metadata": {
        "colab": {
          "base_uri": "https://localhost:8080/"
        },
        "id": "yhGlBPx6fgbs",
        "outputId": "26a49238-b815-40a6-b0f2-a9a707fd9572"
      },
      "execution_count": 13,
      "outputs": [
        {
          "output_type": "stream",
          "name": "stdout",
          "text": [
            "NAND(0, 0) = 1\n",
            "NAND(0, 1) = 1\n",
            "NAND(1, 0) = 1\n",
            "NAND(1, 1) = 0\n"
          ]
        }
      ]
    },
    {
      "cell_type": "code",
      "source": [
        "def XOR_function(x):\n",
        "  return AND_function([NAND_function(x),OR_function(x)])"
      ],
      "metadata": {
        "id": "JxSZ6-VagtUv"
      },
      "execution_count": 14,
      "outputs": []
    },
    {
      "cell_type": "code",
      "source": [
        "test = ([0,0], [0,1], [1,0], [1,1])\n",
        "\n",
        "print(\"XOR({}, {}) = {}\".format(0, 0, XOR_function(test[0])))\n",
        "print(\"XOR({}, {}) = {}\".format(0, 1, XOR_function(test[1])))\n",
        "print(\"XOR({}, {}) = {}\".format(1, 0, XOR_function(test[2])))\n",
        "print(\"XOR({}, {}) = {}\".format(1, 1, XOR_function(test[3])))"
      ],
      "metadata": {
        "colab": {
          "base_uri": "https://localhost:8080/"
        },
        "id": "271lw3_bhb7n",
        "outputId": "ca251eca-928b-490c-bdcf-88be5d1f0725"
      },
      "execution_count": 15,
      "outputs": [
        {
          "output_type": "stream",
          "name": "stdout",
          "text": [
            "XOR(0, 0) = 0\n",
            "XOR(0, 1) = 1\n",
            "XOR(1, 0) = 1\n",
            "XOR(1, 1) = 0\n"
          ]
        }
      ]
    },
    {
      "cell_type": "code",
      "source": [],
      "metadata": {
        "id": "26XHDFXHcBKs"
      },
      "execution_count": null,
      "outputs": []
    }
  ]
}