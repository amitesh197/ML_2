{
  "nbformat": 4,
  "nbformat_minor": 0,
  "metadata": {
    "colab": {
      "provenance": []
    },
    "kernelspec": {
      "name": "python3",
      "display_name": "Python 3"
    },
    "language_info": {
      "name": "python"
    }
  },
  "cells": [
    {
      "cell_type": "code",
      "source": [
        "def sigmoid(y_in):\n",
        "    y_hat = 1 / (1 + np.exp(-y_in))\n",
        "    return y_hat"
      ],
      "metadata": {
        "id": "BtSM94dvzn3q"
      },
      "execution_count": null,
      "outputs": []
    },
    {
      "cell_type": "code",
      "source": [
        "def perceptron(x, w, b):\n",
        "    y_in = x * w + b\n",
        "    y_hat = sigmoid(y_in)\n",
        "    return y_hat"
      ],
      "metadata": {
        "id": "ppskHZZjzmcq"
      },
      "execution_count": null,
      "outputs": []
    },
    {
      "cell_type": "code",
      "source": [
        "def grad_w(x, y, w, b):\n",
        "    y_hat = perceptron(x, w, b)\n",
        "    db =  (y - y_hat) * y_hat * (1 - y_hat)\n",
        "    return db\n",
        "\n",
        "def grad_b(x, y, w, b):\n",
        "    y_hat = perceptron(x, w, b)\n",
        "    dw =  (y - y_hat) * y_hat * (1 - y_hat) * x\n",
        "    return dw"
      ],
      "metadata": {
        "id": "6pZ2usfWzkcL"
      },
      "execution_count": null,
      "outputs": []
    },
    {
      "cell_type": "code",
      "source": [
        "def minibatch(w, b, x, y,a):\n",
        "    n = 0.1\n",
        "    epoch = 10\n",
        "    batch_size = int(input(\"Enter the batch size: \"))\n",
        "    for i in range(epoch):\n",
        "        dw, db, sample_no = 0, 0, 0\n",
        "        for xi, yi in zip(x, y):\n",
        "            dw += grad_w(w, b, xi, yi)\n",
        "            db += grad_b(w, b, xi, yi)\n",
        "            sample_no += 1\n",
        "            if sample_no % batch_size == 0:\n",
        "                w = w - dw*a\n",
        "                b = b - db *a\n",
        "\n",
        "    return w, b\n",
        "x=np.array([0.5,2.5])\n",
        "y=np.array([1.2,0.9])\n",
        "w=0.0\n",
        "b=0\n",
        "a=0.1\n",
        "new_w, new_b = minibatch(w, 0, x, y,a)\n",
        "\n",
        "print(\"Updated w:\", new_w)\n",
        "print(\"Updated b:\", new_b)"
      ],
      "metadata": {
        "colab": {
          "base_uri": "https://localhost:8080/"
        },
        "id": "8hiI_3PMZq4m",
        "outputId": "1ca75cf0-3e58-4d62-a6dd-7e331465da8d"
      },
      "execution_count": null,
      "outputs": [
        {
          "output_type": "stream",
          "name": "stdout",
          "text": [
            "Enter the batch size: 2\n",
            "Updated w: 0.2663132373855611\n",
            "Updated b: 0.03190748395173052\n"
          ]
        }
      ]
    },
    {
      "cell_type": "code",
      "source": [
        "def momentum_descent(w, b, x, y, alpha,beta, num_epochs):\n",
        "    v_w, v_b = 0.0, 0.0\n",
        "    for epoch in range(num_epochs):\n",
        "        dw,db=0,0\n",
        "        for xi, yi in zip(x, y):\n",
        "            dw = grad_w(w, b, xi, yi)\n",
        "            db = grad_b(w, b, xi, yi)\n",
        "\n",
        "        v_w = beta * v_w +(1-beta)* dw\n",
        "        v_b = beta * v_b + (1-beta)* db\n",
        "\n",
        "        w -= v_w*alpha\n",
        "        b -= v_b*alpha\n",
        "    return w, b\n",
        "\n",
        "x=np.array([0.5,2.5])\n",
        "y=np.array([1.2,0.9])\n",
        "w=0.0\n",
        "b=0\n",
        "a=0.1\n",
        "num_epochs = 10\n",
        "beta=0.9\n",
        "new_w, new_b = momentum_descent(w, 0.0, x, y, a, beta, num_epochs)\n",
        "\n",
        "print(\"Updated w:\", new_w)\n",
        "print(\"Updated b:\", new_b)"
      ],
      "metadata": {
        "colab": {
          "base_uri": "https://localhost:8080/"
        },
        "id": "nGNvk5vTi0US",
        "outputId": "d7bb7f61-6b06-466a-8576-041c809e0dc3"
      },
      "execution_count": null,
      "outputs": [
        {
          "output_type": "stream",
          "name": "stdout",
          "text": [
            "Updated w: 0.06015928469643391\n",
            "Updated b: 0.00076167207008995\n"
          ]
        }
      ]
    },
    {
      "cell_type": "code",
      "source": [
        "import numpy as np\n",
        "\n",
        "def adagrad(w, b, x, y, alpha, epsilon, num_epochs):\n",
        "\n",
        "    for epoch in range(num_epochs):\n",
        "        for xi, yi in zip(x, y):\n",
        "            dw = grad_w(w, b, xi, yi)\n",
        "            db = grad_b(w, b, xi, yi)\n",
        "\n",
        "            w -= (alpha / (np.sqrt(dw ** 2) + epsilon)) * dw\n",
        "            b -= (alpha / (np.sqrt(db ** 2) + epsilon)) * db\n",
        "\n",
        "    return w, b\n",
        "\n",
        "x=np.array([0.5,2.5])\n",
        "y=np.array([1.2,0.9])\n",
        "w=0.0\n",
        "b=0\n",
        "a=0.1\n",
        "num_epochs = 10\n",
        "eps=0.00001\n",
        "\n",
        "new_w, new_b = adagrad(w, 0, x, y, a, eps, num_epochs)\n",
        "\n",
        "print(\"Updated w:\", new_w)\n",
        "print(\"Updated b:\", new_b)"
      ],
      "metadata": {
        "colab": {
          "base_uri": "https://localhost:8080/"
        },
        "id": "w_KLGldejTXY",
        "outputId": "384fad81-83bf-4289-b007-7f0502fa58e7"
      },
      "execution_count": null,
      "outputs": [
        {
          "output_type": "stream",
          "name": "stdout",
          "text": [
            "Updated w: 0.9995639624032058\n",
            "Updated b: 0.8992503170804655\n"
          ]
        }
      ]
    },
    {
      "cell_type": "code",
      "source": [
        "def NAG(w, b, x, y, alpha, beta, num_epochs):\n",
        "    v_w, v_b = 0.0, 0.0\n",
        "    for epoch in range(num_epochs):\n",
        "        for xi, yi in zip(x, y):\n",
        "            lookahead_dw = grad_w(w - beta * v_w, b - beta * v_b, xi, yi)\n",
        "            lookahead_db = grad_b(w - beta * v_w, b - beta * v_b, xi, yi)\n",
        "\n",
        "            v_w = beta * v_w - alpha * lookahead_dw\n",
        "            v_b = beta * v_b - alpha * lookahead_db\n",
        "\n",
        "            w += v_w\n",
        "            b += v_b\n",
        "\n",
        "    return w, b\n",
        "\n",
        "x=np.array([0.5,2.5])\n",
        "y=np.array([1.2,0.9])\n",
        "w=0.0\n",
        "b=0\n",
        "a=0.1\n",
        "num_epochs = 10\n",
        "beta=0.9\n",
        "new_w, new_b = NAG(w, 0, x, y, a, beta, num_epochs)\n",
        "\n",
        "print(\"Updated w:\", new_w)\n",
        "print(\"Updated b:\", new_b)"
      ],
      "metadata": {
        "colab": {
          "base_uri": "https://localhost:8080/"
        },
        "id": "R05-RXhjq1Ul",
        "outputId": "c5901372-910c-4f26-cff2-30d23914f651"
      },
      "execution_count": null,
      "outputs": [
        {
          "output_type": "stream",
          "name": "stdout",
          "text": [
            "Updated w: 1.3658099442347835\n",
            "Updated b: 0.35595057946420394\n"
          ]
        }
      ]
    },
    {
      "cell_type": "code",
      "source": [
        "import numpy as np\n",
        "def adam(w, b, x, y, alpha, beta1, beta2, epsilon, num_epochs):\n",
        "    w,b=0.0,0.0\n",
        "    m_w = np.zeros_like(w)\n",
        "    m_b, v_b = 0.0, 0.0\n",
        "    v_w = np.zeros_like(w)\n",
        "    i=0\n",
        "    for epoch in range(num_epochs):\n",
        "        for xi, yi in zip(x, y):\n",
        "            i += 1\n",
        "            dw = grad_w(w, b, xi, yi)\n",
        "            db = grad_b(w, b, xi, yi)\n",
        "            m_w = beta1 * m_w + (1 - beta1) * dw\n",
        "            m_b = beta1 * m_b + (1 - beta1) * db\n",
        "            v_w = beta2 * v_w + (1 - beta2) * (dw ** 2)\n",
        "            v_b = beta2 * v_b + (1 - beta2) * (db ** 2)\n",
        "            m_w_hat = m_w / (1 - beta1 ** i)\n",
        "            m_b_hat = m_b / (1 - beta1 ** i)\n",
        "            v_w_hat = v_w / (1 - beta2 ** i)\n",
        "            v_b_hat = v_b / (1 - beta2 ** i)\n",
        "            w -= (alpha / (np.sqrt(v_w_hat) + epsilon)) * m_w_hat\n",
        "            b -= (alpha / (np.sqrt(v_b_hat) + epsilon)) * m_b_hat\n",
        "    return w, b\n",
        "x=np.array([0.5,2.5])\n",
        "y=np.array([1.2,0.9])\n",
        "w,b,a=0.0,0,0.1\n",
        "num_epochs = 10\n",
        "esp=0.0001\n",
        "beta1,beta2 = 0.9,0.999\n",
        "new_w, new_b = adam(w, 0, x, y, a, beta1, beta2, eps, num_epochs)\n",
        "print(\"Updated w:\", new_w)\n",
        "print(\"Updated b:\", new_b)"
      ],
      "metadata": {
        "colab": {
          "base_uri": "https://localhost:8080/"
        },
        "id": "NwIOzK7kvfYw",
        "outputId": "89f64819-2442-45a9-8dcd-6b99c86767b7"
      },
      "execution_count": null,
      "outputs": [
        {
          "output_type": "stream",
          "name": "stdout",
          "text": [
            "Updated w: 1.2533562939177947\n",
            "Updated b: 1.0582274871855926\n"
          ]
        }
      ]
    },
    {
      "cell_type": "code",
      "source": [
        "import numpy as np\n",
        "\n",
        "def adadelta(w, b, x, y, rho, epsilon, num_epochs):\n",
        "    w, b = 0.0, 0.0\n",
        "    E_dw, E_db = 0.0,0.0\n",
        "    delta_w, delta_b =  0.0,0.0\n",
        "\n",
        "    for epoch in range(num_epochs):\n",
        "        for xi, yi in zip(x, y):\n",
        "            dw = grad_w(w, b, xi, yi)\n",
        "            db = grad_b(w, b, xi, yi)\n",
        "\n",
        "            E_dw = rho * E_dw + (1 - rho) * (dw ** 2)\n",
        "            E_db = rho * E_db + (1 - rho) * (db ** 2)\n",
        "\n",
        "            delta_w = -np.sqrt(delta_w + epsilon) / (np.sqrt(E_dw + epsilon)) * dw\n",
        "            delta_b = -np.sqrt(delta_b + epsilon) / (np.sqrt(E_db + epsilon)) * db\n",
        "\n",
        "\n",
        "            w += delta_w\n",
        "            b += delta_b\n",
        "\n",
        "    return w, b\n",
        "\n",
        "x = np.array([0.5, 2.5])\n",
        "y = np.array([1.2, 0.9])\n",
        "w, b, alpha, rho, eps, num_epochs = 0.0, 0.0, 0.1, 0.95, 0.001, 10\n",
        "\n",
        "new_w, new_b = adadelta(w, b, x, y, rho, eps, num_epochs)\n",
        "print(\"Updated w:\", new_w)\n",
        "print(\"Updated b:\", new_b)"
      ],
      "metadata": {
        "id": "ldHY-Rq7wzXu",
        "colab": {
          "base_uri": "https://localhost:8080/"
        },
        "outputId": "e0a3dd7b-a9b4-4d85-e4ec-a450e72c4308"
      },
      "execution_count": 11,
      "outputs": [
        {
          "output_type": "stream",
          "name": "stdout",
          "text": [
            "Updated w: 2.7740631226689167\n",
            "Updated b: 0.8735200645845033\n"
          ]
        }
      ]
    },
    {
      "cell_type": "code",
      "source": [],
      "metadata": {
        "id": "-yorWqv5qH8i"
      },
      "execution_count": null,
      "outputs": []
    }
  ]
}