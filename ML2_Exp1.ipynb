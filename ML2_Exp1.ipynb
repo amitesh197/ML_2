{
  "nbformat": 4,
  "nbformat_minor": 0,
  "metadata": {
    "colab": {
      "provenance": []
    },
    "kernelspec": {
      "name": "python3",
      "display_name": "Python 3"
    },
    "language_info": {
      "name": "python"
    }
  },
  "cells": [
    {
      "cell_type": "markdown",
      "source": [
        "AND Function"
      ],
      "metadata": {
        "id": "EoDXauAliONt"
      }
    },
    {
      "cell_type": "code",
      "execution_count": null,
      "metadata": {
        "colab": {
          "base_uri": "https://localhost:8080/"
        },
        "id": "guzCxVVpPiz_",
        "outputId": "9600ef39-09a9-4c06-dacd-a436fae4f7e1"
      },
      "outputs": [
        {
          "output_type": "stream",
          "name": "stdout",
          "text": [
            "0\n",
            "1\n"
          ]
        }
      ],
      "source": [
        "import numpy as np\n",
        "\n",
        "def AND_func(x):\n",
        "  w=np.array([1,1])\n",
        "  b=-2\n",
        "  y_hat=Perceptron(x,w,b)\n",
        "  return y_hat\n",
        "\n",
        "def Perceptron(x,w,b):\n",
        "  y_in=np.dot(x,w)+b\n",
        "  y_hat=step_func(y_in)\n",
        "  return y_hat\n",
        "\n",
        "def step_func(y_in):\n",
        "  if(y_in>=0): return 1\n",
        "  return 0\n",
        "\n",
        "test1=np.array([0,0])\n",
        "test2=np.array([1,1])\n",
        "print(AND_func(test1))\n",
        "print(AND_func(test2))\n"
      ]
    },
    {
      "cell_type": "markdown",
      "source": [
        "OR Function"
      ],
      "metadata": {
        "id": "2yGkd4biiZD-"
      }
    },
    {
      "cell_type": "code",
      "source": [
        "def OR_func(x):\n",
        "  w=np.array([1,1])\n",
        "  b=-1\n",
        "  y_hat=Perceptron(x,w,b)\n",
        "  return y_hat\n",
        "\n",
        "def Perceptron(x,w,b):\n",
        "  y_in=np.dot(x,w)+b\n",
        "  y_hat=step_func(y_in)\n",
        "  return y_hat\n",
        "\n",
        "def step_func(y_in):\n",
        "  if(y_in>=0): return 1\n",
        "  return 0\n",
        "\n",
        "test1=np.array([0,0])\n",
        "test2=np.array([0,1])\n",
        "test3=np.array([1,0])\n",
        "test4=np.array([1,1])\n",
        "print(OR_func(test1))\n",
        "print(OR_func(test2))\n",
        "print(OR_func(test3))\n",
        "print(OR_func(test4))"
      ],
      "metadata": {
        "colab": {
          "base_uri": "https://localhost:8080/"
        },
        "id": "y0ZOX3gORGIq",
        "outputId": "1a3dae07-a7bc-4204-ccf4-48e548836344"
      },
      "execution_count": null,
      "outputs": [
        {
          "output_type": "stream",
          "name": "stdout",
          "text": [
            "0\n",
            "1\n",
            "1\n",
            "1\n"
          ]
        }
      ]
    },
    {
      "cell_type": "markdown",
      "source": [
        "NOT Function"
      ],
      "metadata": {
        "id": "3KFMrc01if9_"
      }
    },
    {
      "cell_type": "code",
      "source": [
        "def NOT_func(x):\n",
        "  w=np.array([-1])\n",
        "  b=0\n",
        "  y_hat=Perceptron(x,w,b)\n",
        "  return y_hat\n",
        "\n",
        "def Perceptron(x,w,b):\n",
        "  y_in=np.dot(x,w)+b\n",
        "  y_hat=step_func(y_in)\n",
        "  return y_hat\n",
        "\n",
        "def step_func(y_in):\n",
        "  if(y_in>=0): return 1\n",
        "  return 0\n",
        "\n",
        "test1=np.array([1])\n",
        "test2=np.array([0])\n",
        "print(NOT_func(test1))\n",
        "print(NOT_func(test2))"
      ],
      "metadata": {
        "colab": {
          "base_uri": "https://localhost:8080/"
        },
        "id": "gZsGAw_hTd7k",
        "outputId": "d8c45fe3-c211-446c-feaa-4fa7ccfab1e4"
      },
      "execution_count": null,
      "outputs": [
        {
          "output_type": "stream",
          "name": "stdout",
          "text": [
            "0\n",
            "1\n"
          ]
        }
      ]
    },
    {
      "cell_type": "markdown",
      "source": [
        "NAND Function"
      ],
      "metadata": {
        "id": "Yl0KWN26ioJ_"
      }
    },
    {
      "cell_type": "code",
      "source": [
        "def AND_func(x):\n",
        "  w=np.array([1,1])\n",
        "  b=-2\n",
        "  y_hat=Perceptron(x,w,b)\n",
        "  return y_hat\n",
        "\n",
        "def Perceptron(x,w,b):\n",
        "  y_in=np.dot(x,w)+b\n",
        "  y_hat=step_func(y_in)\n",
        "  return y_hat\n",
        "\n",
        "def step_func(y_in):\n",
        "  if(y_in>=0): return 1\n",
        "  return 0\n",
        "\n",
        "def NOT_func(x):\n",
        "  w=np.array([-1])\n",
        "  b=0\n",
        "  y_hat=Perceptron(x,w,b)\n",
        "  return y_hat\n",
        "\n",
        "def NAND_func(x):\n",
        "  y1=AND_func(x)\n",
        "  return NOT_func(y1)\n",
        "\n",
        "test1=np.array([0,0])\n",
        "test2=np.array([0,1])\n",
        "test3=np.array([1,0])\n",
        "test4=np.array([1,1])\n",
        "print(NAND_func(test1))\n",
        "print(NAND_func(test2))\n",
        "print(NAND_func(test3))\n",
        "print(NAND_func(test4))"
      ],
      "metadata": {
        "colab": {
          "base_uri": "https://localhost:8080/"
        },
        "id": "JPKsRWIjcNzO",
        "outputId": "4aa388f4-1eef-4b3e-d2cd-8ada981dcf1a"
      },
      "execution_count": null,
      "outputs": [
        {
          "output_type": "stream",
          "name": "stdout",
          "text": [
            "1\n",
            "1\n",
            "1\n",
            "0\n"
          ]
        }
      ]
    },
    {
      "cell_type": "markdown",
      "source": [
        "NOR FUNCTION"
      ],
      "metadata": {
        "id": "5mkUIMsWPULM"
      }
    },
    {
      "cell_type": "code",
      "source": [
        "def OR_func(x):\n",
        "  w=np.array([1,1])\n",
        "  b=-1\n",
        "  y_hat=Perceptron(x,w,b)\n",
        "  return y_hat\n",
        "\n",
        "def Perceptron(x,w,b):\n",
        "  y_in=np.dot(x,w)+b\n",
        "  y_hat=step_func(y_in)\n",
        "  return y_hat\n",
        "\n",
        "def step_func(y_in):\n",
        "  if(y_in>=0): return 1\n",
        "  return 0\n",
        "\n",
        "def NOT_func(x):\n",
        "  w=np.array([-1])\n",
        "  b=0\n",
        "  y_hat=Perceptron(x,w,b)\n",
        "  return y_hat\n",
        "\n",
        "def NOR_func(x):\n",
        "  y1=OR_func(x)\n",
        "  return NOT_func(y1)\n",
        "\n",
        "test1=np.array([0,0])\n",
        "test2=np.array([0,1])\n",
        "test3=np.array([1,0])\n",
        "test4=np.array([1,1])\n",
        "print(NOR_func(test1))\n",
        "print(NOR_func(test2))\n",
        "print(NOR_func(test3))\n",
        "print(NOR_func(test4))"
      ],
      "metadata": {
        "colab": {
          "base_uri": "https://localhost:8080/"
        },
        "id": "i6iJohBoeD9e",
        "outputId": "7d8c6c6f-f5d4-410d-ff6c-a5a0baefd8bf"
      },
      "execution_count": null,
      "outputs": [
        {
          "output_type": "stream",
          "name": "stdout",
          "text": [
            "1\n",
            "0\n",
            "0\n",
            "0\n"
          ]
        }
      ]
    },
    {
      "cell_type": "markdown",
      "source": [
        "XOR FUNCTION"
      ],
      "metadata": {
        "id": "mH8QCkEdPXHT"
      }
    },
    {
      "cell_type": "code",
      "source": [
        "def OR_func(x):\n",
        "  w=np.array([1,1])\n",
        "  b=-1\n",
        "  y_hat=Perceptron(x,w,b)\n",
        "  return y_hat\n",
        "\n",
        "def Perceptron(x,w,b):\n",
        "  y_in=np.dot(x,w)+b\n",
        "  y_hat=step_func(y_in)\n",
        "  return y_hat\n",
        "\n",
        "def step_func(y_in):\n",
        "  if(y_in>=0): return 1\n",
        "  return 0\n",
        "\n",
        "def AND_func(x):\n",
        "  w=np.array([1,1])\n",
        "  b=-2\n",
        "  y_hat=Perceptron(x,w,b)\n",
        "  return y_hat\n",
        "\n",
        "def NOT_func(x):\n",
        "  w=np.array([-1])\n",
        "  b=0\n",
        "  y_hat=Perceptron(x,w,b)\n",
        "  return y_hat\n",
        "\n",
        "def NAND_func(x):\n",
        "  y1=AND_func(x)\n",
        "  return NOT_func(y1)\n",
        "\n",
        "def XOR_func(x):\n",
        "  x1=OR_func(x)\n",
        "  x2=NAND_func(x)\n",
        "  x_new=np.array([x1,x2])\n",
        "  return AND_func(x_new)\n",
        "\n",
        "test1=np.array([0,0])\n",
        "test2=np.array([0,1])\n",
        "test3=np.array([1,0])\n",
        "test4=np.array([1,1])\n",
        "print(XOR_func(test1))\n",
        "print(XOR_func(test2))\n",
        "print(XOR_func(test3))\n",
        "print(XOR_func(test4))"
      ],
      "metadata": {
        "colab": {
          "base_uri": "https://localhost:8080/"
        },
        "id": "Qjo8lyPdf9pr",
        "outputId": "8030669a-e88a-4be4-8212-a8a5ea1d7afa"
      },
      "execution_count": null,
      "outputs": [
        {
          "output_type": "stream",
          "name": "stdout",
          "text": [
            "0\n",
            "1\n",
            "1\n",
            "0\n"
          ]
        }
      ]
    },
    {
      "cell_type": "code",
      "source": [],
      "metadata": {
        "id": "KQcUW5Fgh2a0"
      },
      "execution_count": null,
      "outputs": []
    }
  ]
}